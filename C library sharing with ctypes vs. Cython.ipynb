{
 "cells": [
  {
   "cell_type": "markdown",
   "metadata": {},
   "source": [
    "# Comparison between ctypes and Cython\n",
    "\n",
    "@author: Adrian Oeftiger @date: 11.07.2018\n",
    "\n",
    "We compare calling a shared `C` library in Python interfaced via the `ctypes` library and via `Cython`."
   ]
  },
  {
   "cell_type": "code",
   "execution_count": 1,
   "metadata": {},
   "outputs": [],
   "source": [
    "from __future__ import division, print_function\n",
    "\n",
    "import numpy as np\n",
    "from scipy.constants import c, e\n",
    "import matplotlib.pyplot as plt\n",
    "%matplotlib inline\n",
    "\n",
    "np.random.seed(0)"
   ]
  },
  {
   "cell_type": "code",
   "execution_count": 2,
   "metadata": {},
   "outputs": [],
   "source": [
    "# INPUTS\n",
    "n_mp = int(1e6)\n",
    "\n",
    "dE = np.random.randn(n_mp) * 1e6 # [eV]\n",
    "dt = np.random.randn(n_mp) * 1e-7 # [s]\n",
    "\n",
    "gamma = 1.5\n",
    "\n",
    "beta_x = 15\n",
    "beta_y = 20\n",
    "D_x = 2\n",
    "epsn_x = 2e-6\n",
    "epsn_y = 2e-6"
   ]
  },
  {
   "cell_type": "code",
   "execution_count": 3,
   "metadata": {},
   "outputs": [],
   "source": [
    "# COMPUTED QUANTITIES\n",
    "beta = np.sqrt(1 - gamma**-2)\n",
    "dp = dE / (beta * c)\n",
    "mu_x = np.random.randn(n_mp) * np.sqrt(epsn_x)\n",
    "mu_y = np.random.randn(n_mp) * np.sqrt(epsn_y)\n",
    "\n",
    "x = np.sqrt(beta_x) * mu_x + D_x * dp\n",
    "y = np.sqrt(beta_y) * mu_y\n",
    "z_beamframe = (-dt * beta * c) * gamma # Lorentz transformed"
   ]
  },
  {
   "cell_type": "code",
   "execution_count": 4,
   "metadata": {},
   "outputs": [],
   "source": [
    "n_nodes = 64, 64, 64\n",
    "dx, dy, dz = map(\n",
    "    lambda ary, n: (np.max(ary) - np.min(ary)) / (n - 3), \n",
    "    [x, y, z_beamframe], n_nodes)\n",
    "x0, y0, z0 = map(\n",
    "    lambda ary, d: ary.min() - d,\n",
    "    [x, y, z_beamframe], [dx, dy, dz])"
   ]
  },
  {
   "cell_type": "code",
   "execution_count": 5,
   "metadata": {},
   "outputs": [],
   "source": [
    "%load_ext Cython"
   ]
  },
  {
   "cell_type": "code",
   "execution_count": 6,
   "metadata": {},
   "outputs": [],
   "source": [
    "%load_ext autoreload\n",
    "%autoreload 2"
   ]
  },
  {
   "cell_type": "code",
   "execution_count": 7,
   "metadata": {},
   "outputs": [],
   "source": [
    "# compilable with $gcc -std=c99 -O3 -fPIC -shared -o get_weights_c.so get_weights_c.c -lm \n",
    "with open('get_weights_c.c', 'wt') as fh:\n",
    "    fh.write('''\n",
    "#include <math.h>\n",
    "\n",
    "void get_weights_c(\n",
    "    // inputs:\n",
    "    double* x, double* y, double* z,\n",
    "    int n,\n",
    "    // outputs:\n",
    "    double* weight_ijk, double* weight_i1jk,\n",
    "    double* weight_ij1k, double* weight_i1j1k,\n",
    "    double* weight_ijk1, double* weight_i1jk1,\n",
    "    double* weight_ij1k1, double* weight_i1j1k1\n",
    ") {{\n",
    "    double jj, ii, kk;\n",
    "    double dxi, dyi, dzi;\n",
    "    for (int i = 0; i < n; i++) {{\n",
    "        // indices\n",
    "        double jj = floor((x[i] - {x0:{prec}}) / {dx:{prec}});\n",
    "        double ii = floor((y[i] - {y0:{prec}}) / {dy:{prec}});\n",
    "        double kk = floor((z[i] - {z0:{prec}}) / {dz:{prec}});\n",
    "\n",
    "        // distances\n",
    "        double dxi = x[i] - ({x0:{prec}} + jj * {dx:{prec}});\n",
    "        double dyi = y[i] - ({y0:{prec}} + ii * {dy:{prec}});\n",
    "        double dzi = z[i] - ({z0:{prec}} + kk * {dz:{prec}});\n",
    "\n",
    "        // weights\n",
    "        weight_ijk[i] =    (1.-dxi/{dx:{prec}})*(1.-dyi/{dy:{prec}})*(1.-dzi/{dz:{prec}});\n",
    "        weight_i1jk[i] =   (1.-dxi/{dx:{prec}})*(dyi/{dy:{prec}})   *(1.-dzi/{dz:{prec}});\n",
    "        weight_ij1k[i] =   (dxi/{dx:{prec}})   *(1.-dyi/{dy:{prec}})*(1.-dzi/{dz:{prec}});\n",
    "        weight_i1j1k[i] =  (dxi/{dx:{prec}})   *(dyi/{dy:{prec}})   *(1.-dzi/{dz:{prec}});\n",
    "        weight_ijk1[i] =   (1.-dxi/{dx:{prec}})*(1.-dyi/{dy:{prec}})*(dzi/{dz:{prec}});\n",
    "        weight_i1jk1[i] =  (1.-dxi/{dx:{prec}})*(dyi/{dy:{prec}})   *(dzi/{dz:{prec}});\n",
    "        weight_ij1k1[i] =  (dxi/{dx:{prec}})   *(1.-dyi/{dy:{prec}})*(dzi/{dz:{prec}});\n",
    "        weight_i1j1k1[i] = (dxi/{dx:{prec}})   *(dyi/{dy:{prec}})   *(dzi/{dz:{prec}});\n",
    "    }}\n",
    "}}\n",
    "    '''.format(\n",
    "        x0=x0, y0=y0, z0=z0, \n",
    "        dx=dx, dy=dy, dz=dz,\n",
    "        prec=\".17\")\n",
    "    )"
   ]
  },
  {
   "cell_type": "markdown",
   "metadata": {},
   "source": [
    "# Memory allocation by itself"
   ]
  },
  {
   "cell_type": "code",
   "execution_count": 8,
   "metadata": {},
   "outputs": [
    {
     "name": "stdout",
     "output_type": "stream",
     "text": [
      "10 loops, best of 3: 27.2 µs per loop\n"
     ]
    }
   ],
   "source": [
    "%%timeit -n 10\n",
    "\n",
    "global weight_ijk, weight_i1jk, weight_ij1k, weight_i1j1k, \\\n",
    "weight_ijk1, weight_i1jk1, weight_ij1k1, weight_i1j1k1\n",
    "\n",
    "(weight_ijk, weight_i1jk, weight_ij1k, weight_i1j1k,\n",
    "weight_ijk1, weight_i1jk1, weight_ij1k1, weight_i1j1k1) = (\n",
    "    np.empty_like(x) for _ in range(8)\n",
    ")"
   ]
  },
  {
   "cell_type": "markdown",
   "metadata": {},
   "source": [
    "$\\implies$ negligible impact on timing"
   ]
  },
  {
   "cell_type": "markdown",
   "metadata": {},
   "source": [
    "# ctypes"
   ]
  },
  {
   "cell_type": "code",
   "execution_count": 9,
   "metadata": {},
   "outputs": [],
   "source": [
    "!gcc -std=c99 -O3 -fPIC -shared -o get_weights_c.so get_weights_c.c -lm"
   ]
  },
  {
   "cell_type": "code",
   "execution_count": 10,
   "metadata": {},
   "outputs": [],
   "source": [
    "import ctypes"
   ]
  },
  {
   "cell_type": "code",
   "execution_count": 11,
   "metadata": {},
   "outputs": [],
   "source": [
    "from numpy.ctypeslib import ndpointer\n",
    "np_double_p = ndpointer(dtype=np.float64)"
   ]
  },
  {
   "cell_type": "code",
   "execution_count": 12,
   "metadata": {},
   "outputs": [],
   "source": [
    "dll = ctypes.cdll.LoadLibrary('./get_weights_c.so')\n",
    "dll.get_weights_c.restype = None\n",
    "dll.get_weights_c.argtypes = [\n",
    "    np_double_p, np_double_p, np_double_p, ctypes.c_int, \n",
    "    np_double_p, np_double_p, np_double_p, np_double_p,\n",
    "    np_double_p, np_double_p, np_double_p, np_double_p]"
   ]
  },
  {
   "cell_type": "code",
   "execution_count": 13,
   "metadata": {},
   "outputs": [
    {
     "name": "stdout",
     "output_type": "stream",
     "text": [
      "100 loops, best of 3: 59.8 ms per loop\n"
     ]
    }
   ],
   "source": [
    "%%timeit -n 100\n",
    "\n",
    "global weight_ijk, weight_i1jk, weight_ij1k, weight_i1j1k, \\\n",
    "weight_ijk1, weight_i1jk1, weight_ij1k1, weight_i1j1k1\n",
    "\n",
    "(weight_ijk, weight_i1jk, weight_ij1k, weight_i1j1k,\n",
    "weight_ijk1, weight_i1jk1, weight_ij1k1, weight_i1j1k1) = (\n",
    "    np.empty_like(x) for _ in range(8)\n",
    ")\n",
    "\n",
    "dll.get_weights_c(\n",
    "    x, y, z_beamframe, ctypes.c_int(len(x)),\n",
    "    weight_ijk, weight_i1jk, weight_ij1k, weight_i1j1k,\n",
    "    weight_ijk1, weight_i1jk1, weight_ij1k1, weight_i1j1k1\n",
    ")"
   ]
  },
  {
   "cell_type": "markdown",
   "metadata": {},
   "source": [
    "# cython"
   ]
  },
  {
   "cell_type": "code",
   "execution_count": 14,
   "metadata": {},
   "outputs": [],
   "source": [
    "%%cython --name get_weights_cy\n",
    "# distutils: sources = ./get_weights_c.c\n",
    "# distutils: extra_compile_args = -std=c99 -O3 -lm\n",
    "\n",
    "import numpy as np\n",
    "cimport numpy as np\n",
    "\n",
    "cdef extern void get_weights_c(\n",
    "        # inputs:\n",
    "        double* x, double* y, double* z,\n",
    "        int n,\n",
    "        # outputs:\n",
    "        double* weight_ijk, double* weight_i1jk,\n",
    "        double* weight_ij1k, double* weight_i1j1k,\n",
    "        double* weight_ijk1, double* weight_i1jk1,\n",
    "        double* weight_ij1k1, double* weight_i1j1k1)\n",
    "\n",
    "def get_weights(x, y, z):\n",
    "    cdef np.ndarray[np.double_t, ndim=1, mode=\"c\"] x_c = np.ascontiguousarray(x, dtype=np.double)\n",
    "    cdef np.ndarray[np.double_t, ndim=1, mode=\"c\"] y_c = np.ascontiguousarray(y, dtype=np.double)\n",
    "    cdef np.ndarray[np.double_t, ndim=1, mode=\"c\"] z_c = np.ascontiguousarray(z, dtype=np.double)\n",
    "    \n",
    "    cdef np.ndarray[np.double_t, ndim=1, mode=\"c\"] weight_ijk = np.empty_like(x_c)\n",
    "    cdef np.ndarray[np.double_t, ndim=1, mode=\"c\"] weight_i1jk = np.empty_like(x_c)\n",
    "    cdef np.ndarray[np.double_t, ndim=1, mode=\"c\"] weight_ij1k = np.empty_like(x_c)\n",
    "    cdef np.ndarray[np.double_t, ndim=1, mode=\"c\"] weight_i1j1k = np.empty_like(x_c)\n",
    "    cdef np.ndarray[np.double_t, ndim=1, mode=\"c\"] weight_ijk1 = np.empty_like(x_c)\n",
    "    cdef np.ndarray[np.double_t, ndim=1, mode=\"c\"] weight_i1jk1 = np.empty_like(x_c)\n",
    "    cdef np.ndarray[np.double_t, ndim=1, mode=\"c\"] weight_ij1k1 = np.empty_like(x_c)\n",
    "    cdef np.ndarray[np.double_t, ndim=1, mode=\"c\"] weight_i1j1k1 = np.empty_like(x_c)\n",
    "    \n",
    "    get_weights_c(\n",
    "        &x_c[0], &y_c[0], &z_c[0], len(x_c),\n",
    "        &weight_ijk[0], &weight_i1jk[0],\n",
    "        &weight_ij1k[0], &weight_i1j1k[0],\n",
    "        &weight_ijk1[0], &weight_i1jk1[0],\n",
    "        &weight_ij1k1[0], &weight_i1j1k1[0]\n",
    "    )\n",
    "    \n",
    "    return (weight_ijk, weight_i1jk, weight_ij1k, weight_i1j1k,\n",
    "            weight_ijk1, weight_i1jk1, weight_ij1k1, weight_i1j1k1)"
   ]
  },
  {
   "cell_type": "code",
   "execution_count": 15,
   "metadata": {},
   "outputs": [],
   "source": [
    "import get_weights_cy"
   ]
  },
  {
   "cell_type": "code",
   "execution_count": 16,
   "metadata": {},
   "outputs": [
    {
     "name": "stdout",
     "output_type": "stream",
     "text": [
      "100 loops, best of 3: 61 ms per loop\n"
     ]
    }
   ],
   "source": [
    "%%timeit -n 100\n",
    "\n",
    "global weight_ijk, weight_i1jk, weight_ij1k, weight_i1j1k, \\\n",
    "weight_ijk1, weight_i1jk1, weight_ij1k1, weight_i1j1k1\n",
    "\n",
    "(weight_ijk, weight_i1jk, weight_ij1k, weight_i1j1k,\n",
    "weight_ijk1, weight_i1jk1, weight_ij1k1, weight_i1j1k1) = \\\n",
    "    get_weights_cy.get_weights(x, y, z_beamframe)"
   ]
  },
  {
   "cell_type": "markdown",
   "metadata": {
    "collapsed": true
   },
   "source": [
    "# Conclusion\n",
    "\n",
    "Both the `ctypes` and `cython` approach to access the shared `C` library yield comparable timings (the results fluctuate within $\\approx 5$ ms)."
   ]
  }
 ],
 "metadata": {
  "kernelspec": {
   "display_name": "Python 2",
   "language": "python",
   "name": "python2"
  },
  "language_info": {
   "codemirror_mode": {
    "name": "ipython",
    "version": 2
   },
   "file_extension": ".py",
   "mimetype": "text/x-python",
   "name": "python",
   "nbconvert_exporter": "python",
   "pygments_lexer": "ipython2",
   "version": "2.7.15"
  }
 },
 "nbformat": 4,
 "nbformat_minor": 2
}
